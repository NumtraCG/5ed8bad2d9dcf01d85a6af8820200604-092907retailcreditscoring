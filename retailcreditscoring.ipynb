{
 "cells": [
  {
   "cell_type": "markdown",
   "metadata": {},
   "source": [
    "***GENERATED CODE FOR retailcreditscoring PIPELINE***\n",
    "***DON'T EDIT THIS CODE***"
   ]
  },
  {
   "cell_type": "markdown",
   "metadata": {},
   "source": [
    "**CONNECTOR FUNCTIONS TO READ DATA FROM DATABRICKS FILESYSTEM**"
   ]
  },
  {
   "cell_type": "code",
   "execution_count": null,
   "metadata": {},
   "outputs": [],
   "source": [
    "import datetime\n",
    "import logging\n",
    "import warnings\n",
    "warnings.filterwarnings('ignore')\n",
    "logging.basicConfig(format='%(levelname)s:%(message)s', level=logging.INFO)\n",
    "\n",
    "\n",
    "class DBFSConnector:\n",
    "\n",
    "    def fetch(spark, config):\n",
    "        df = spark.read.\\\n",
    "            options(header='true' if eval(config)[\"is_header\"] == \"Use Header Line\" else 'false',\n",
    "                    inferschema='true',\n",
    "                    delimiter=eval(config)[\"delimiter\"])\\\n",
    "            .csv(eval(config)['url'])\n",
    "        display(df.limit(2).toPandas())\n",
    "        return df\n",
    "\n",
    "    def put(df, spark, config):\n",
    "        return df.write.format('csv').options(header='true' if eval(config)[\"is_header\"] == \"Use Header Line\" else 'false',\n",
    "                                              delimiter=eval(config)[\"delimiter\"]).save((\"%s %s\") % (datetime.datetime.now().strftime(\"%Y-%m-%d %H.%M.%S\")+\"_\", eval(config)['url']))\n"
   ]
  },
  {
   "cell_type": "markdown",
   "metadata": {},
   "source": [
    "**TRANSFORMATIONS FUNCTIONS THAT WILL BE APPLIED ON DATA**"
   ]
  },
  {
   "cell_type": "code",
   "execution_count": null,
   "metadata": {},
   "outputs": [],
   "source": [
    "import json\n",
    "from pyspark.sql.functions import col, when\n",
    "from pyspark.sql.functions import mean, stddev, min, max, col\n",
    "\n",
    "\n",
    "class CleanseData:\n",
    "    # def __init__(self,df):\n",
    "    #     #print()\n",
    "\n",
    "    def replaceByMean(self, feature, df, mean_=-1):\n",
    "\n",
    "        meanValue = df.select(mean(col(feature.name)).alias(\n",
    "            'mean')).collect()[0][\"mean\"]\n",
    "        df.fillna(meanValue, subset=[feature.name])\n",
    "        df.withColumn(feature.name, when(col(feature.name) == \" \",\n",
    "                                         meanValue).otherwise(col(feature.name).cast(\"Integer\")))\n",
    "        return df\n",
    "\n",
    "    def replaceByMax(self, feature, df, max_=-1):\n",
    "        maxValue = df.select(max(col(feature.name)).alias('max')).collect()[\n",
    "            0][\"max\"]\n",
    "        df.fillna(maxValue, subset=[feature.name])\n",
    "        df = df.withColumn(feature.name,\n",
    "                           when(col(feature.name) == \" \", maxValue).otherwise(col(feature.name)))\n",
    "        return df\n",
    "\n",
    "    def replaceByMin(self, feature, df, min_=-1):\n",
    "        minValue = df.select(min(col(feature.name)).alias('min')).collect()[\n",
    "            0][\"min\"]\n",
    "        df.fillna(minValue, subset=[feature.name])\n",
    "        df = df.withColumn(feature.name,\n",
    "                           when(col(feature.name) == \" \", minValue).otherwise(col(feature.name)))\n",
    "        return df\n",
    "\n",
    "    def replaceByStandardDeviation(self, feature, df, stddev_=-1):\n",
    "        stddevValue = df.select(stddev(col(feature.name)).alias(\n",
    "            'stddev')).collect()[0][\"stddev\"]\n",
    "        df.fillna(stddevValue, subset=[feature.name])\n",
    "        df = df.withColumn(feature.name,\n",
    "                           when(col(feature.name) == \" \", stddevValue).otherwise(col(feature.name)))\n",
    "        return df\n",
    "\n",
    "    def replaceDateRandomly(self, feature, df):\n",
    "        fillValue = df.where(col(feature.name).isNotNull()\n",
    "                             ).head(1)[0][feature.name]\n",
    "        df.fillna(str(fillValue), subset=[feature.name])\n",
    "        df = df.withColumn(feature.name,\n",
    "                           when(col(feature.name) == \" \", fillValue).otherwise(col(feature.name)))\n",
    "        # print(\"CleanseData:replaceDateRandomly Schema : \", df.#printSchema())\n",
    "        return df\n",
    "\n",
    "    def replaceNullValues(self, fList, df):\n",
    "        featuresList = df.schema.fields\n",
    "        for featureObj in fList:\n",
    "            for feat in featuresList:\n",
    "                if featureObj[\"feature\"] in feat.name:\n",
    "                    featureName = feat\n",
    "                    if \"mean\" in featureObj[\"replaceby\"]:\n",
    "                        df = self.replaceByMean(featureName, df)\n",
    "                    elif \"max\" in featureObj[\"replaceby\"]:\n",
    "                        df = self.replaceByMax(featureName, df)\n",
    "                    elif \"min\" in featureObj[\"replaceby\"]:\n",
    "                        df = self.replaceByMin(featureName, df)\n",
    "                    elif \"stddev\" in featureObj[\"replaceby\"]:\n",
    "                        df = self.replaceByStandardDeviation(featureName, df)\n",
    "                    elif \"random\" in featureObj[\"replaceby\"]:\n",
    "                        df = self.replaceDateRandomly(featureName, df)\n",
    "        return df\n",
    "\n",
    "\n",
    "class TransformationMain:\n",
    "    # TODO: change df argument in run with following\n",
    "    def run(transformationDF, config):\n",
    "        configObj = json.loads(config)\n",
    "        featureData = configObj[\"FE\"]\n",
    "        transformationDF = CleanseData().replaceNullValues(featureData, transformationDF)\n",
    "        display(transformationDF.limit(2).toPandas())\n",
    "        return transformationDF\n"
   ]
  },
  {
   "cell_type": "markdown",
   "metadata": {},
   "source": [
    "**AUTOML FUNCTIONS**"
   ]
  },
  {
   "cell_type": "code",
   "execution_count": null,
   "metadata": {},
   "outputs": [],
   "source": [
    "from tpot import TPOTClassifier\n",
    "from sklearn.model_selection import train_test_split\n",
    "import pyspark\n",
    "\n",
    "\n",
    "def functionClassification(sparkDF, listOfFeatures, label):\n",
    "    sparkDF.persist(pyspark.StorageLevel.MEMORY_AND_DISK)\n",
    "    df = sparkDF.toPandas()\n",
    "    X = df.drop(label, axis=1).values\n",
    "    y = df[label].values\n",
    "    X_train, X_test, y_train, y_test = train_test_split(\n",
    "        X, y, random_state=1, test_size=0.1)\n",
    "    tpotModel = TPOTClassifier(verbosity=3, n_jobs=-1, generations=10, max_time_mins=5,\n",
    "                               population_size=15)\n",
    "    tpotModel.fit(X_train, y_train)\n",
    "    display(\" Accuracy of Model : %s\" % tpotModel.score(X_test, y_test))\n",
    "    data = {'model': tpotModel,\n",
    "            'X_test': X_test,\n",
    "            'y_test': y_test,\n",
    "            'label': label,\n",
    "            'columnNames': sparkDF.columns}\n",
    "    return data\n"
   ]
  },
  {
   "cell_type": "markdown",
   "metadata": {},
   "source": [
    "**READING DATAFRAME**"
   ]
  },
  {
   "cell_type": "code",
   "execution_count": null,
   "metadata": {},
   "outputs": [],
   "source": [
    "from pyspark.sql import SparkSession\n",
    "spark = SparkSession.builder.getOrCreate()\n",
    "\n",
    "%run retailcreditscoringHooks.ipynb\n",
    "try:\n",
    "\tsourcePreExecutionHook()\n",
    "\n",
    "\tretailcreditscoringdbfs = DBFSConnector.fetch(spark, \"{'url': '/Demo/RetailCreditScoringTrain.csv', 'file_type': 'Delimeted', 'delimiter': ',', 'is_header': 'Use Header Line'}\")\n",
    "\n",
    "\tsourcePostExecutionHook(retailcreditscoringdbfs)\n",
    "\n",
    "except Exception as ex: \n",
    "\tlogging.error(ex)\n"
   ]
  },
  {
   "cell_type": "markdown",
   "metadata": {},
   "source": [
    "**TRANSFORMING DATAFRAME**"
   ]
  },
  {
   "cell_type": "code",
   "execution_count": null,
   "metadata": {},
   "outputs": [],
   "source": [
    "%run retailcreditscoringHooks.ipynb\n",
    "try:\n",
    "\ttransformationPreExecutionHook()\n",
    "\n",
    "\tretailcreditscoringautofe = TransformationMain.run(retailcreditscoringdbfs,json.dumps( {\"FE\": [{\"transformationsData\": [{\"feature_label\": \"Creditability\", \"std_scalar\": {\"mean_flag\": \"True\", \"std_flag\": \"False\"}, \"transformation_label\": \"novalue\"}], \"feature\": \"Creditability\", \"transformation\": [{\"transformation\": \"novalue\", \"selectedAsDefault\": 1}], \"type\": \"numeric\", \"replaceby\": \"mean\", \"selected\": \"True\", \"stats\": {\"count\": \"274\", \"mean\": \"0.75\", \"stddev\": \"0.43\", \"min\": \"0\", \"max\": \"1\", \"missing\": \"0\"}}, {\"transformationsData\": [{\"transformation_label\": \"novalue\"}], \"feature\": \"Account_Balance\", \"transformation\": [{\"transformation\": \"novalue\", \"selectedAsDefault\": 1}], \"type\": \"numeric\", \"replaceby\": \"mean\", \"selected\": \"True\", \"stats\": {\"count\": \"274\", \"mean\": \"2.68\", \"stddev\": \"1.27\", \"min\": \"1\", \"max\": \"4\", \"missing\": \"0\"}}, {\"transformationsData\": [{\"transformation_label\": \"novalue\"}], \"feature\": \"Duration_of_Credit(month)\", \"transformation\": [{\"transformation\": \"novalue\", \"selectedAsDefault\": 1}], \"type\": \"numeric\", \"replaceby\": \"mean\", \"selected\": \"True\", \"stats\": {\"count\": \"274\", \"mean\": \"20.89\", \"stddev\": \"12.83\", \"min\": \"4\", \"max\": \"60\", \"missing\": \"0\"}}, {\"transformationsData\": [{\"transformation_label\": \"novalue\"}], \"feature\": \"Payment_Status_of_Previous_Credit\", \"transformation\": [{\"transformation\": \"novalue\", \"selectedAsDefault\": 1}], \"type\": \"numeric\", \"replaceby\": \"mean\", \"selected\": \"True\", \"stats\": {\"count\": \"274\", \"mean\": \"2.58\", \"stddev\": \"1.1\", \"min\": \"0\", \"max\": \"4\", \"missing\": \"0\"}}, {\"transformationsData\": [{\"transformation_label\": \"novalue\"}], \"feature\": \"Purpose\", \"transformation\": [{\"transformation\": \"novalue\", \"selectedAsDefault\": 1}], \"type\": \"numeric\", \"replaceby\": \"mean\", \"selected\": \"True\", \"stats\": {\"count\": \"274\", \"mean\": \"2.6\", \"stddev\": \"2.64\", \"min\": \"0\", \"max\": \"10\", \"missing\": \"0\"}}, {\"transformationsData\": [{\"transformation_label\": \"novalue\"}], \"feature\": \"Credit_Amount\", \"transformation\": [{\"transformation\": \"novalue\", \"selectedAsDefault\": 1}], \"type\": \"numeric\", \"replaceby\": \"mean\", \"selected\": \"True\", \"stats\": {\"count\": \"274\", \"mean\": \"3417.81\", \"stddev\": \"3038.6\", \"min\": \"362\", \"max\": \"15653\", \"missing\": \"0\"}}, {\"transformationsData\": [{\"transformation_label\": \"novalue\"}], \"feature\": \"Value_Savings_Stocks\", \"transformation\": [{\"transformation\": \"novalue\", \"selectedAsDefault\": 1}], \"type\": \"numeric\", \"replaceby\": \"mean\", \"selected\": \"True\", \"stats\": {\"count\": \"274\", \"mean\": \"2.11\", \"stddev\": \"1.6\", \"min\": \"1\", \"max\": \"5\", \"missing\": \"0\"}}, {\"transformationsData\": [{\"transformation_label\": \"novalue\"}], \"feature\": \"Length_of_current_employment\", \"transformation\": [{\"transformation\": \"novalue\", \"selectedAsDefault\": 1}], \"type\": \"numeric\", \"replaceby\": \"mean\", \"selected\": \"True\", \"stats\": {\"count\": \"274\", \"mean\": \"3.43\", \"stddev\": \"1.18\", \"min\": \"1\", \"max\": \"5\", \"missing\": \"0\"}}, {\"transformationsData\": [{\"transformation_label\": \"novalue\"}], \"feature\": \"Instalment_per_cent\", \"transformation\": [{\"transformation\": \"novalue\", \"selectedAsDefault\": 1}], \"type\": \"numeric\", \"replaceby\": \"mean\", \"selected\": \"True\", \"stats\": {\"count\": \"274\", \"mean\": \"2.99\", \"stddev\": \"1.15\", \"min\": \"1\", \"max\": \"4\", \"missing\": \"0\"}}, {\"transformationsData\": [{\"transformation_label\": \"novalue\"}], \"feature\": \"Sex_&_Marital_Status\", \"transformation\": [{\"transformation\": \"novalue\", \"selectedAsDefault\": 1}], \"type\": \"numeric\", \"replaceby\": \"mean\", \"selected\": \"True\", \"stats\": {\"count\": \"274\", \"mean\": \"2.68\", \"stddev\": \"0.69\", \"min\": \"1\", \"max\": \"4\", \"missing\": \"0\"}}, {\"transformationsData\": [{\"transformation_label\": \"novalue\"}], \"feature\": \"Guarantors\", \"transformation\": [{\"transformation\": \"novalue\", \"selectedAsDefault\": 1}], \"type\": \"numeric\", \"replaceby\": \"mean\", \"selected\": \"True\", \"stats\": {\"count\": \"274\", \"mean\": \"1.11\", \"stddev\": \"0.43\", \"min\": \"1\", \"max\": \"3\", \"missing\": \"0\"}}, {\"transformationsData\": [{\"transformation_label\": \"novalue\"}], \"feature\": \"Duration_in_Current_address\", \"transformation\": [{\"transformation\": \"novalue\", \"selectedAsDefault\": 1}], \"type\": \"numeric\", \"replaceby\": \"mean\", \"selected\": \"True\", \"stats\": {\"count\": \"274\", \"mean\": \"2.8\", \"stddev\": \"1.13\", \"min\": \"1\", \"max\": \"4\", \"missing\": \"0\"}}, {\"transformationsData\": [{\"transformation_label\": \"novalue\"}], \"feature\": \"Most_valuable_available_asset\", \"transformation\": [{\"transformation\": \"novalue\", \"selectedAsDefault\": 1}], \"type\": \"numeric\", \"replaceby\": \"mean\", \"selected\": \"True\", \"stats\": {\"count\": \"274\", \"mean\": \"2.33\", \"stddev\": \"1.03\", \"min\": \"1\", \"max\": \"4\", \"missing\": \"0\"}}, {\"transformationsData\": [{\"transformation_label\": \"novalue\"}], \"feature\": \"Age(years)\", \"transformation\": [{\"transformation\": \"novalue\", \"selectedAsDefault\": 1}], \"type\": \"numeric\", \"replaceby\": \"mean\", \"selected\": \"True\", \"stats\": {\"count\": \"274\", \"mean\": \"35.45\", \"stddev\": \"10.94\", \"min\": \"19\", \"max\": \"74\", \"missing\": \"0\"}}, {\"transformationsData\": [{\"transformation_label\": \"novalue\"}], \"feature\": \"Concurrent_Credits\", \"transformation\": [{\"transformation\": \"novalue\", \"selectedAsDefault\": 1}], \"type\": \"numeric\", \"replaceby\": \"mean\", \"selected\": \"True\", \"stats\": {\"count\": \"274\", \"mean\": \"2.68\", \"stddev\": \"0.71\", \"min\": \"1\", \"max\": \"3\", \"missing\": \"0\"}}, {\"transformationsData\": [{\"transformation_label\": \"novalue\"}], \"feature\": \"Type_of_apartment\", \"transformation\": [{\"transformation\": \"novalue\", \"selectedAsDefault\": 1}], \"type\": \"numeric\", \"replaceby\": \"mean\", \"selected\": \"True\", \"stats\": {\"count\": \"274\", \"mean\": \"1.95\", \"stddev\": \"0.51\", \"min\": \"1\", \"max\": \"3\", \"missing\": \"0\"}}, {\"transformationsData\": [{\"transformation_label\": \"novalue\"}], \"feature\": \"No_of_Credits_at_this_Bank\", \"transformation\": [{\"transformation\": \"novalue\", \"selectedAsDefault\": 1}], \"type\": \"numeric\", \"replaceby\": \"mean\", \"selected\": \"True\", \"stats\": {\"count\": \"274\", \"mean\": \"1.44\", \"stddev\": \"0.61\", \"min\": \"1\", \"max\": \"4\", \"missing\": \"0\"}}, {\"transformationsData\": [{\"transformation_label\": \"novalue\"}], \"feature\": \"Occupation\", \"transformation\": [{\"transformation\": \"novalue\", \"selectedAsDefault\": 1}], \"type\": \"numeric\", \"replaceby\": \"mean\", \"selected\": \"True\", \"stats\": {\"count\": \"274\", \"mean\": \"2.91\", \"stddev\": \"0.67\", \"min\": \"1\", \"max\": \"4\", \"missing\": \"0\"}}, {\"transformationsData\": [{\"transformation_label\": \"novalue\"}], \"feature\": \"No_of_dependents\", \"transformation\": [{\"transformation\": \"novalue\", \"selectedAsDefault\": 1}], \"type\": \"numeric\", \"replaceby\": \"mean\", \"selected\": \"True\", \"stats\": {\"count\": \"274\", \"mean\": \"1.17\", \"stddev\": \"0.37\", \"min\": \"1\", \"max\": \"2\", \"missing\": \"0\"}}, {\"transformationsData\": [{\"transformation_label\": \"novalue\"}], \"feature\": \"Telephone\", \"transformation\": [{\"transformation\": \"novalue\", \"selectedAsDefault\": 1}], \"type\": \"numeric\", \"replaceby\": \"mean\", \"selected\": \"True\", \"stats\": {\"count\": \"274\", \"mean\": \"1.42\", \"stddev\": \"0.49\", \"min\": \"1\", \"max\": \"2\", \"missing\": \"0\"}}, {\"transformationsData\": [{\"transformation_label\": \"novalue\"}], \"feature\": \"Foreign_Worker\", \"transformation\": [{\"transformation\": \"novalue\", \"selectedAsDefault\": 1}], \"type\": \"numeric\", \"replaceby\": \"mean\", \"selected\": \"True\", \"stats\": {\"count\": \"274\", \"mean\": \"1.04\", \"stddev\": \"0.21\", \"min\": \"1\", \"max\": \"2\", \"missing\": \"0\"}}]}))\n",
    "\n",
    "\ttransformationPostExecutionHook(retailcreditscoringautofe)\n",
    "\n",
    "except Exception as ex: \n",
    "\tlogging.error(ex)\n"
   ]
  },
  {
   "cell_type": "markdown",
   "metadata": {},
   "source": [
    "**TRAIN MODEL**"
   ]
  },
  {
   "cell_type": "code",
   "execution_count": null,
   "metadata": {},
   "outputs": [],
   "source": [
    "%run retailcreditscoringHooks.ipynb\n",
    "try:\n",
    "\tmlPreExecutionHook()\n",
    "\n",
    "\tdataAutoML=functionClassification(retailcreditscoringautofe, [\"Account_Balance\", \"Duration_of_Credit(month)\", \"Payment_Status_of_Previous_Credit\", \"Purpose\", \"Credit_Amount\", \"Value_Savings_Stocks\", \"Length_of_current_employment\", \"Instalment_per_cent\", \"Sex_&_Marital_Status\", \"Guarantors\", \"Duration_in_Current_address\", \"Most_valuable_available_asset\", \"Age(years)\", \"Concurrent_Credits\", \"Type_of_apartment\", \"No_of_Credits_at_this_Bank\", \"Occupation\", \"No_of_dependents\", \"Telephone\", \"Foreign_Worker\"], \"Creditability\")\n",
    "\n",
    "\tmlPostExecutionHook(dataAutoML)\n",
    "\n",
    "except Exception as ex: \n",
    "\tlogging.error(ex)\n"
   ]
  },
  {
   "cell_type": "markdown",
   "metadata": {},
   "source": [
    "**PREDICT ON TRAINED MODEL**"
   ]
  },
  {
   "cell_type": "code",
   "execution_count": null,
   "metadata": {},
   "outputs": [],
   "source": [
    "import pandas as pd\n",
    "import numpy as np\n",
    "import sklearn.metrics\n",
    "\n",
    "try:\n",
    "    model=dataAutoML['model']\n",
    "    X_test=dataAutoML['X_test']\n",
    "    y_test=dataAutoML['y_test']\n",
    "    label=dataAutoML['label']\n",
    "    columnNames=dataAutoML['columnNames']\n",
    "    if label in columnNames:\n",
    "        columnNames.remove(label)\n",
    "    predicted=label+\"_predicted\"\n",
    "    y_predicted=model.predict(X_test)\n",
    "    df =pd.DataFrame(X_test , columns=columnNames)\n",
    "    df[label]=y_test\n",
    "    df[predicted]=y_predicted\n",
    "    columnNames.insert(0,predicted)\n",
    "    columnNames.insert(0,label)\n",
    "    Accuracy = np.round((100 * sklearn.metrics.accuracy_score(y_true=y_test, y_pred=y_predicted)), 1)\n",
    "    F1= np.round(\n",
    "            (100 * sklearn.metrics.f1_score(y_true=y_test, y_pred=y_predicted, average=\"weighted\")), 1)\n",
    "    Precision= np.round((\n",
    "                100 * sklearn.metrics.precision_score(y_true=y_test, y_pred=y_predicted, average=\"weighted\")), 1)\n",
    "    Recall = np.round((\n",
    "                100 * sklearn.metrics.recall_score(y_true=y_test, y_pred=y_predicted, average=\"weighted\")), 1)\n",
    "    display(\" Accuracy of Prediction on test data    : %s\"%Accuracy)\n",
    "    display(\" F1 score of Prediction on test data    : %s\"%F1)\n",
    "    display(\" Precision of Prediction on test data   : %s\"%Precision)\n",
    "    display(\" Recall of Prediction on test data      : %s\"%Recall)\n",
    "    display(df.head())\n",
    "except Exception as ex:\n",
    "    logging.error(ex)\n",
    "\n"
   ]
  }
 ],
 "metadata": {},
 "nbformat": 4,
 "nbformat_minor": 2
}
